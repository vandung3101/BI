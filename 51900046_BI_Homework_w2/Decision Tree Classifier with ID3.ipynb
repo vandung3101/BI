{
 "cells": [
  {
   "cell_type": "code",
   "execution_count": 1,
   "metadata": {},
   "outputs": [],
   "source": [
    "import numpy as np\n",
    "from sklearn.model_selection import train_test_split\n",
    "# fix dependence of id3\n",
    "import six\n",
    "import sys\n",
    "sys.modules['sklearn.externals.six'] = six\n",
    "from id3 import Id3Estimator\n",
    "from id3 import export_graphviz"
   ]
  },
  {
   "cell_type": "code",
   "execution_count": 2,
   "metadata": {},
   "outputs": [
    {
     "name": "stdout",
     "output_type": "stream",
     "text": [
      "[[       nan        nan        nan ...        nan        nan        nan]\n",
      " [1.0000e+00        nan 1.0000e+00 ... 3.0000e+00 1.3000e+01 1.6000e+01]\n",
      " [2.0000e+00        nan 1.0000e+00 ... 8.0000e+00 3.2000e+01 4.0000e+01]\n",
      " ...\n",
      " [1.7377e+04        nan 1.0000e+00 ... 7.0000e+00 8.3000e+01 9.0000e+01]\n",
      " [1.7378e+04        nan 1.0000e+00 ... 1.3000e+01 4.8000e+01 6.1000e+01]\n",
      " [1.7379e+04        nan 1.0000e+00 ... 1.2000e+01 3.7000e+01 4.9000e+01]]\n"
     ]
    }
   ],
   "source": [
    "# load raw data from csv file\n",
    "raw = np.genfromtxt('hour.csv', delimiter = ',')\n",
    "print(raw)"
   ]
  },
  {
   "cell_type": "code",
   "execution_count": 3,
   "metadata": {},
   "outputs": [
    {
     "name": "stdout",
     "output_type": "stream",
     "text": [
      "['Grow' 'Grow' 'Grow' ... 'Grow' 'Grow' 'Grow']\n"
     ]
    }
   ],
   "source": [
    "# read raw data into target/feature by discrete form\n",
    "# target\n",
    "cnt_median = np.median(raw[1:, -1:])\n",
    "target = []\n",
    "for i in raw[1:, -1:]:\n",
    "    if i < cnt_median:\n",
    "        target.append('Grow')\n",
    "    else:\n",
    "        target.append('Drop')\n",
    "target = np.array(target)\n",
    "print(target)"
   ]
  },
  {
   "cell_type": "code",
   "execution_count": 4,
   "metadata": {},
   "outputs": [
    {
     "name": "stdout",
     "output_type": "stream",
     "text": [
      "[['Spring' 'Early morning' 'No' ... '<20' '>63' '<12']\n",
      " ['Spring' 'Early morning' 'No' ... '<20' '>63' '<12']\n",
      " ['Spring' 'Early morning' 'No' ... '<20' '>63' '<12']\n",
      " ...\n",
      " ['Spring' 'Evening' 'No' ... '<20' '<63' '<12']\n",
      " ['Spring' 'Evening' 'No' ... '<20' '<63' '<12']\n",
      " ['Spring' 'Evening' 'No' ... '<20' '>63' '<12']]\n"
     ]
    }
   ],
   "source": [
    "# features considered\n",
    "feature_name = ['Season', 'Period of day', 'Holiday', 'Weather', 'Temperature', 'Humidity', 'Wind speed'] \n",
    "# cal median (better than mean)\n",
    "temp_median = np.median(raw[1:, 10])\n",
    "hum_median = np.median(raw[1:, 12])\n",
    "wind_median = np.median(raw[1:, 13])\n",
    "# Generate feature data \n",
    "feature = [[], [], [], [], [], [], []]\n",
    "# A little mistake, use transpose below\n",
    "for i in raw[1:]:\n",
    "    # season\n",
    "    if i[2] == 1:\n",
    "        feature[0].append('Spring')\n",
    "    elif i[2] == 2:\n",
    "        feature[0].append('Summer')\n",
    "    elif i[2] == 3:\n",
    "        feature[0].append('Autumn')\n",
    "    else:\n",
    "        feature[0].append('Winter')\n",
    "    # hour\n",
    "    if i[5] < 6:\n",
    "        feature[1].append('Early morning')\n",
    "    elif i[5] < 12:\n",
    "        feature[1].append('Morning')\n",
    "    elif i[5] < 18:\n",
    "        feature[1].append('Afternoon')\n",
    "    else:\n",
    "        feature[1].append('Evening')\n",
    "    # holiday\n",
    "    if i[6] == 1:\n",
    "        feature[2].append('Yes')\n",
    "    else:\n",
    "        feature[2].append('No')\n",
    "    '''\n",
    "    # weekday\n",
    "    cause the ugly tree\n",
    "    if i[7] == 0:\n",
    "        feature[3].append('Sun')\n",
    "    elif i[7] == 1:\n",
    "        feature[3].append('Mon')\n",
    "    elif i[7] == 2:\n",
    "        feature[3].append('Tue')\n",
    "    elif i[7] == 3:\n",
    "        feature[3].append('Wed') \n",
    "    elif i[7] == 4:\n",
    "        feature[3].append('Thu')\n",
    "    elif i[7] == 5:\n",
    "        feature[3].append('Fri') \n",
    "    else:\n",
    "        feature[3].append('Sat')\n",
    "    '''\n",
    "    # weather\n",
    "    if i[9] == 1:\n",
    "        feature[3].append('Best')\n",
    "    elif i[9] == 2:\n",
    "        feature[3].append('Good')\n",
    "    elif i[9] == 3:\n",
    "        feature[3].append('Bad')\n",
    "    else:\n",
    "        feature[3].append('Very bad')\n",
    "    # temp\n",
    "    if i[10] > temp_median:\n",
    "        feature[4].append(f'>{int(temp_median*41)}')\n",
    "    else:\n",
    "        feature[4].append(f'<{int(temp_median*41)}')\n",
    "    # humidity\n",
    "    if i[12] > hum_median:\n",
    "        feature[5].append(f'>{int(hum_median*100)}')\n",
    "    else:\n",
    "        feature[5].append(f'<{int(hum_median*100)}')\n",
    "    # wind speed\n",
    "    if i[13] > wind_median:\n",
    "        feature[6].append(f'>{int(wind_median*67)}')\n",
    "    else:\n",
    "        feature[6].append(f'<{int(wind_median*67)}')\n",
    "feature = np.array(feature).T\n",
    "print(feature)"
   ]
  },
  {
   "cell_type": "code",
   "execution_count": 5,
   "metadata": {},
   "outputs": [
    {
     "name": "stderr",
     "output_type": "stream",
     "text": [
      "/Users/apple/anaconda3/lib/python3.8/site-packages/sklearn/utils/validation.py:72: FutureWarning: Beginning in version 0.22, arrays of bytes/strings will be converted to decimal numbers if dtype='numeric'. It is recommended that you convert the array to a float dtype before using it in scikit-learn, for example by using your_array = your_array.astype(np.float64).\n",
      "  return f(**kwargs)\n"
     ]
    },
    {
     "data": {
      "text/plain": [
       "Id3Estimator(max_depth=3)"
      ]
     },
     "execution_count": 5,
     "metadata": {},
     "output_type": "execute_result"
    }
   ],
   "source": [
    "# split train and test dataset\n",
    "f_train, f_test, t_train, t_test = train_test_split(feature, target)\n",
    "# build tree\n",
    "model = Id3Estimator(max_depth=3)\n",
    "# 6 is best but the tree is ugly\n",
    "model.fit(f_train, t_train)"
   ]
  },
  {
   "cell_type": "code",
   "execution_count": 6,
   "metadata": {},
   "outputs": [
    {
     "name": "stdout",
     "output_type": "stream",
     "text": [
      "['Drop' 'Drop' 'Drop' ... 'Grow' 'Drop' 'Drop']\n",
      "['Drop' 'Drop' 'Drop' ... 'Grow' 'Grow' 'Drop']\n"
     ]
    },
    {
     "name": "stderr",
     "output_type": "stream",
     "text": [
      "/Users/apple/anaconda3/lib/python3.8/site-packages/sklearn/utils/validation.py:72: FutureWarning: Beginning in version 0.22, arrays of bytes/strings will be converted to decimal numbers if dtype='numeric'. It is recommended that you convert the array to a float dtype before using it in scikit-learn, for example by using your_array = your_array.astype(np.float64).\n",
      "  return f(**kwargs)\n"
     ]
    },
    {
     "data": {
      "text/plain": [
       "0.8138089758342922"
      ]
     },
     "execution_count": 6,
     "metadata": {},
     "output_type": "execute_result"
    }
   ],
   "source": [
    "# checking for adjusting\n",
    "predict = model.predict(f_test)\n",
    "print(predict)\n",
    "print(t_test)\n",
    "count = 0\n",
    "for a, b in zip(predict, t_test):\n",
    "    if a == b:\n",
    "        count += 1\n",
    "count/len(predict)\n",
    "# ~0.8"
   ]
  },
  {
   "cell_type": "code",
   "execution_count": 7,
   "metadata": {},
   "outputs": [
    {
     "data": {
      "text/plain": [
       "<_io.TextIOWrapper name='tree.dot' mode='w' encoding='utf8'>"
      ]
     },
     "execution_count": 7,
     "metadata": {},
     "output_type": "execute_result"
    }
   ],
   "source": [
    "# save\n",
    "export_graphviz(model.tree_, 'tree.dot', feature_name, extensive=True)"
   ]
  },
  {
   "cell_type": "code",
   "execution_count": 8,
   "metadata": {},
   "outputs": [],
   "source": [
    "#     convert to pdf/png use pydot\n",
    "#         $dot -Tpdf tree.dot -o tree.pdf\n",
    "#         $dot -Tpng tree.dot -o tree.png"
   ]
  }
 ],
 "metadata": {
  "kernelspec": {
   "display_name": "Python 3",
   "language": "python",
   "name": "python3"
  },
  "language_info": {
   "codemirror_mode": {
    "name": "ipython",
    "version": 3
   },
   "file_extension": ".py",
   "mimetype": "text/x-python",
   "name": "python",
   "nbconvert_exporter": "python",
   "pygments_lexer": "ipython3",
   "version": "3.8.5"
  }
 },
 "nbformat": 4,
 "nbformat_minor": 4
}
